{
  "nbformat": 4,
  "nbformat_minor": 0,
  "metadata": {
    "colab": {
      "name": "1",
      "provenance": []
    },
    "kernelspec": {
      "name": "python3",
      "display_name": "Python 3"
    },
    "language_info": {
      "name": "python"
    }
  },
  "cells": [
    {
      "cell_type": "code",
      "execution_count": 44,
      "metadata": {
        "colab": {
          "base_uri": "https://localhost:8080/"
        },
        "id": "DvAQSxxvdtI3",
        "outputId": "b80742f4-6a6e-41ff-f8d9-23a50a753d01"
      },
      "outputs": [
        {
          "output_type": "stream",
          "name": "stdout",
          "text": [
            "ingerese un numero 5\n",
            "ingerese otro numero 4\n",
            "1.25 La división no es exacta. \n"
          ]
        }
      ],
      "source": [
        "x=int(input ('ingerese un numero '))\n",
        "y=int(input ('ingerese otro numero '))\n",
        "w=x/y\n",
        "if x % y == 0:\n",
        "  print(str(w)+ ' La división es exacta.')\n",
        "else:\n",
        "    print(str(w)+ ' La división no es exacta. ')\n",
        "  \n",
        "\n",
        " "
      ]
    },
    {
      "cell_type": "code",
      "source": [
        "x=int(input ('ingerese un numero '))\n",
        "y=int(input ('ingerese otro numero '))\n",
        "w=x/y\n",
        "if x % y == 0:\n",
        "  print('son múltiplos.')\n",
        "else:\n",
        "  print('No son múltiplos.')"
      ],
      "metadata": {
        "colab": {
          "base_uri": "https://localhost:8080/"
        },
        "id": "7tTlvFEqp5ec",
        "outputId": "2fa3f1e5-2c45-4b06-c929-7c6ae7160f72"
      },
      "execution_count": 26,
      "outputs": [
        {
          "output_type": "stream",
          "name": "stdout",
          "text": [
            "ingerese un numero 10\n",
            "ingerese otro numero 5\n",
            " son múltiplos\n"
          ]
        }
      ]
    },
    {
      "cell_type": "code",
      "source": [
        "x=int(input ('ingerese la edad 1 '))\n",
        "y=int(input ('ingerese la edad 2 '))\n",
        "z=int(input ('ingerese la edad 3 '))\n",
        "if x<y<z:\n",
        "  print(f' {x}' \n",
        "  f' {y}'\n",
        "  f' {z}')\n",
        "\n",
        "\n",
        "  "
      ],
      "metadata": {
        "colab": {
          "base_uri": "https://localhost:8080/",
          "height": 130
        },
        "id": "uiH-EQmNtA0O",
        "outputId": "5a425160-ebe5-4d56-99cc-33df448f3bcc"
      },
      "execution_count": 38,
      "outputs": [
        {
          "output_type": "error",
          "ename": "SyntaxError",
          "evalue": "ignored",
          "traceback": [
            "\u001b[0;36m  File \u001b[0;32m\"<ipython-input-38-ebdb4efcd193>\"\u001b[0;36m, line \u001b[0;32m12\u001b[0m\n\u001b[0;31m    else y<x<z:\u001b[0m\n\u001b[0m         ^\u001b[0m\n\u001b[0;31mSyntaxError\u001b[0m\u001b[0;31m:\u001b[0m invalid syntax\n"
          ]
        }
      ]
    }
  ]
}