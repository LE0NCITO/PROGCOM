{
  "nbformat": 4,
  "nbformat_minor": 0,
  "metadata": {
    "colab": {
      "name": "Untitled1.ipynb",
      "provenance": [],
      "collapsed_sections": []
    },
    "kernelspec": {
      "name": "python3",
      "display_name": "Python 3"
    },
    "language_info": {
      "name": "python"
    }
  },
  "cells": [
    {
      "cell_type": "code",
      "execution_count": 72,
      "metadata": {
        "colab": {
          "base_uri": "https://localhost:8080/"
        },
        "id": "WLMSYxbahaSH",
        "outputId": "04664a27-fdee-4cb6-cb81-9a8c251b6793"
      },
      "outputs": [
        {
          "output_type": "stream",
          "name": "stdout",
          "text": [
            "digita un número 6\n",
            "False\n",
            "No es primo\n"
          ]
        }
      ],
      "source": [
        "x=int(input('digita un número '))\n",
        "def primo(x):\n",
        "  for i in range (2,x):\n",
        "    if x%i == 0:\n",
        "      return False\n",
        "  return True\n",
        "\n",
        "if primo(x)==True:\n",
        "  print(primo(x))\n",
        "  print('Es primo')\n",
        "\n",
        "else:\n",
        "     print(primo(x))\n",
        "     print('No es primo')"
      ]
    },
    {
      "cell_type": "code",
      "source": [
        "i=int(2)\n",
        "\n",
        "\n",
        "n=int(input('Digita un número '))\n",
        "while(i<n):\n",
        "\n",
        "  if((n%i) == 0):\n",
        "    print(n, 'No es un número primo')\n",
        "    i=n\n",
        "  else:\n",
        "       print(n, 'Es un número primo')\n",
        "       i=i+1\n",
        "\n",
        "       "
      ],
      "metadata": {
        "colab": {
          "base_uri": "https://localhost:8080/"
        },
        "id": "WPAYfKtayPH7",
        "outputId": "7e2cd8f9-88c7-4348-f881-cadb8992a29a"
      },
      "execution_count": 67,
      "outputs": [
        {
          "output_type": "stream",
          "name": "stdout",
          "text": [
            "Digita un número 7\n",
            "7 Es un número primo\n",
            "7 Es un número primo\n",
            "7 Es un número primo\n",
            "7 Es un número primo\n",
            "7 Es un número primo\n"
          ]
        }
      ]
    },
    {
      "cell_type": "code",
      "source": [
        "ef fibonaccin(num):\n",
        "    n1=1\n",
        "    n2=1\n",
        "    if num==1:\n",
        "        print('0')\n",
        "    elif n1==2:\n",
        "        print('0','1')\n",
        "    else:\n",
        "        print('0')\n",
        "        print(n1)\n",
        "        print(n2)\n",
        "        for i in range(num-3):\n",
        "            total = n1 + n2\n",
        "            n2=n1\n",
        "            n1= total\n",
        "            print(total)\n",
        "         \n",
        "fibonaccin(30)"
      ],
      "metadata": {
        "id": "dFjg0PaP2Ajr"
      },
      "execution_count": null,
      "outputs": []
    },
    {
      "cell_type": "code",
      "source": [
        "def fibonaccin(nu):\n",
        "    arr = [0,1]\n",
        "    if nu==1:\n",
        "        print('0')\n",
        "    elif nu==2:\n",
        "        print('[0,','1]')\n",
        "    else:\n",
        "        while(len(arr)<nu):\n",
        "            arr.append(0)\n",
        "        if(nu==0 or nu==1):\n",
        "            return 1\n",
        "        else:\n",
        "            arr[0]=0\n",
        "            arr[1]=1\n",
        "            for i in range(2,nu):\n",
        "                arr[i]=arr[i-1]+arr[i-2]\n",
        "            print(arr)\n",
        "\n",
        "fibonaccin(30)"
      ],
      "metadata": {
        "id": "RtN31E0P2BTj"
      },
      "execution_count": null,
      "outputs": []
    },
    {
      "cell_type": "code",
      "source": [
        "def factorial(n): \n",
        "     \n",
        "        fact = 1\n",
        "        while(n > 1): \n",
        "            fact *= n\n",
        "            n -= 1\n",
        "        return fact \n",
        "\n",
        "n=int(input(\"Escribe el número del que deseas saber el factorial \")); \n",
        "\n",
        "print(\"El factorial de\",n,\"es\", factorial(n)) \n",
        "\n",
        "\n",
        "\n",
        "n=int(input(\"Escribe el número del que deseas saber el factorial \"))\n",
        "fact=1\n",
        "for i in range(1,n+1):\n",
        "  fact=fact*i\n",
        "print(\"El factorial de\",n,\"es\",fact) \n",
        "\n",
        "\n",
        "\n",
        "n=int(input(\"Que establa desea genear?\"))\n",
        "print(\"Tabla del\" ,n)\n",
        "for i in range(1,11):\n",
        "  print(n,\"x\",i,\"=\",n*i)"
      ],
      "metadata": {
        "id": "N98_hlSC2EGU"
      },
      "execution_count": null,
      "outputs": []
    }
  ]
}