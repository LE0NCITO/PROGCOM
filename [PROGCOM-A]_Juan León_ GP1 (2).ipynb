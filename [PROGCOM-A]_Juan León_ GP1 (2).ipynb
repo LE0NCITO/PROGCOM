{
  "nbformat": 4,
  "nbformat_minor": 0,
  "metadata": {
    "colab": {
      "name": "piedra, papel o tijera",
      "provenance": [],
      "collapsed_sections": []
    },
    "kernelspec": {
      "name": "python3",
      "display_name": "Python 3"
    },
    "language_info": {
      "name": "python"
    }
  },
  "cells": [
    {
      "cell_type": "code",
      "execution_count": null,
      "metadata": {
        "id": "8UNUwwpI2Nzp"
      },
      "outputs": [],
      "source": [
        "\n",
        "\n",
        "while True:\n",
        "  a=int(input('Jugador 1: 1=piedra, 2=papel, 3=tijera '))\n",
        "\n",
        "  b=int(input('Jugador 2: 1=piedra, 2=papel, 3=tijera '))\n",
        "  \n",
        "\n",
        "  if a==1 and b==3:\n",
        "    print('Jugador 1 gana: piedra gana a tijera')\n",
        "    print('                          @@ ')\n",
        "    print('                         @@@@')\n",
        "    print('            GANA             ')\n",
        "    print('                           |/')\n",
        "    print('                           OO')\n",
        "  elif a==2 and b==1:\n",
        "    print('jugador 1 gana: papel gana a piedra')\n",
        "    print('                          ---')\n",
        "    print('                          ---')\n",
        "    print('            GANA             ')\n",
        "    print('                          @@ ')\n",
        "    print('                         @@@@')\n",
        "  elif a==3 and b==2:\n",
        "    print('Jugador 1 gana: tijera gana a papel')\n",
        "    print('                           |/')\n",
        "    print('                           OO')\n",
        "    print('            GANA             ')\n",
        "    print('                          ---')\n",
        "    print('                          ---')\n",
        "  elif b==1 and a==3:\n",
        "    print('Jugador 2 gana: piedra gana a tijera')\n",
        "    print('                          @@ ')\n",
        "    print('                         @@@@')\n",
        "    print('            GANA             ')\n",
        "    print('                           |/')\n",
        "    print('                           OO')\n",
        "  elif b==2 and a==1:\n",
        "    print('Jugador 2 gana: papel gana a piedra')\n",
        "    print('                          ---')\n",
        "    print('                          ---')\n",
        "    print('            GANA             ')\n",
        "    print('                          @@ ')\n",
        "    print('                         @@@@')\n",
        "  elif b==3 and a==2:\n",
        "    print('Jugador 1 gana: tijera gana a papel')\n",
        "    print('                           |/')\n",
        "    print('                           OO')\n",
        "    print('            GANA             ')\n",
        "    print('                          ---')\n",
        "    print('                          ---')\n",
        "  if a>3 or b>3 or a>3 and b>3:\n",
        "    print('ERROR. Digita un numero de 1 a 3')\n",
        "  if a==b: \n",
        "    print('¡Nadie gana!')\n",
        "\n",
        " \n",
        "\n"
      ]
    },
    {
      "cell_type": "code",
      "source": [
        ""
      ],
      "metadata": {
        "id": "_b80ChWISzkh"
      },
      "execution_count": null,
      "outputs": []
    }
  ]
}